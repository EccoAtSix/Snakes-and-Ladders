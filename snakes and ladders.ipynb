{
 "cells": [
  {
   "cell_type": "code",
   "execution_count": 7,
   "metadata": {},
   "outputs": [],
   "source": [
    "import numpy as np\n",
    "import pandas as pd\n",
    "import matplotlib.pyplot as plt \n",
    "import random"
   ]
  },
  {
   "cell_type": "code",
   "execution_count": 9,
   "metadata": {},
   "outputs": [],
   "source": [
    "simulations_first=[]\n",
    "simulations_second=[]\n",
    "count_snakes_first=[]\n",
    "count_snakes_second=[]\n",
    "\n",
    "for c in range(10000):\n",
    "    first=[1]\n",
    "    second=[1]\n",
    "    i=0\n",
    "    while first[i]<=40: #for i in range(70):\n",
    "        count_first=random.randint(1,6)\n",
    "        first.append(first[i]+count_first)\n",
    "        # Ladders first player\n",
    "        if first[i]==3:\n",
    "            first[i]=16\n",
    "        if first[i]==5:\n",
    "            first[i]=7\n",
    "        if first[i]==15:\n",
    "            first[i]=25\n",
    "        if first[i]==18:\n",
    "            first[i]=20\n",
    "        if first[i]==21:\n",
    "            first[i]=32\n",
    "    \n",
    "        # Snakes first player\n",
    "        if first[i]==12:\n",
    "            first[i]=2\n",
    "        if first[i]==14:\n",
    "            first[i]=11\n",
    "        if first[i]==17:\n",
    "            first[i]=4\n",
    "        if first[i]==31:\n",
    "            first[i]=19\n",
    "        if first[i]==35:\n",
    "            first[i]=22\n",
    "        i=i+1\n",
    "    p=0\n",
    "    while second[p]<=40:\n",
    "        count_second=random.randint(1,6)\n",
    "        second.append(second[p]+count_second)\n",
    "        # Ladders second player\n",
    "        if second[p]==3:\n",
    "            second[p]=16\n",
    "        if second[p]==5:\n",
    "            second[p]=7\n",
    "        if second[p]==15:\n",
    "            second[p]=25\n",
    "        if second[p]==18:\n",
    "            second[p]=20\n",
    "        if second[p]==21:\n",
    "            second[p]=32\n",
    "    \n",
    "        # Snakes second player\n",
    "        if second[p]==12:\n",
    "            second[p]=2\n",
    "        if second[p]==14:\n",
    "            second[p]=11\n",
    "        if second[p]==17:\n",
    "            second[p]=4\n",
    "        if second[p]==31:\n",
    "            second[p]=19\n",
    "        if second[p]==35:\n",
    "            second[p]=22\n",
    "        p=p+1\n",
    "    \n",
    "    snakes_first=[]\n",
    "    snakes_second=[]\n",
    "    for l in first:\n",
    "        if l==2 or l==11 or l==4 or l==19 or l==22:\n",
    "            snakes_first.append(1)\n",
    "    for n in second:\n",
    "        if n==2 or n==11 or n==4 or n==19 or n==22:\n",
    "            snakes_second.append(1)\n",
    "            \n",
    "    count_snakes_first.append(np.sum(snakes_first))\n",
    "    count_snakes_second.append(np.sum(snakes_second))\n",
    "    \n",
    "    subs_first=[]\n",
    "    for g in first:\n",
    "        if g <= 40:\n",
    "            subs_first.append(g)\n",
    "    subs_second=[]\n",
    "    for t in second:\n",
    "        if t <= 40:\n",
    "            subs_second.append(t)\n",
    "    \n",
    "    simulations_first.append(len(subs_first))\n",
    "    simulations_second.append(len(subs_second))\n",
    "\n",
    "simulations_first=np.array(simulations_first)\n",
    "simulations_second=np.array(simulations_second)"
   ]
  },
  {
   "attachments": {},
   "cell_type": "markdown",
   "metadata": {},
   "source": [
    "En una simulación de 10,000 partidas.\n",
    "¿Cuántas partidas gana el jugador uno y cuántas el jugador dos?\n",
    "win_first: Jugador uno (jugador que empieza la partida),\n",
    "win_second: Jugador dos"
   ]
  },
  {
   "cell_type": "code",
   "execution_count": 10,
   "metadata": {},
   "outputs": [
    {
     "data": {
      "text/plain": [
       "(6469, 3531)"
      ]
     },
     "execution_count": 10,
     "metadata": {},
     "output_type": "execute_result"
    }
   ],
   "source": [
    "win_first=[]\n",
    "win_second=[]\n",
    "\n",
    "for t,r in zip(simulations_first,simulations_second):\n",
    "    if simulations_first[t]<=simulations_second[r]:\n",
    "        win_first.append(1)\n",
    "    else:\n",
    "        win_second.append(1)\n",
    "\n",
    "np.sum(win_first) , np.sum(win_second) # Matches winned for both players in a 10000 simulation matches"
   ]
  },
  {
   "attachments": {},
   "cell_type": "markdown",
   "metadata": {},
   "source": [
    "¿Cuál es la probabilidad de éxito para el jugador uno y para el jugador dos?"
   ]
  },
  {
   "cell_type": "code",
   "execution_count": 11,
   "metadata": {},
   "outputs": [
    {
     "data": {
      "text/plain": [
       "(0.6469, 0.3531)"
      ]
     },
     "execution_count": 11,
     "metadata": {},
     "output_type": "execute_result"
    }
   ],
   "source": [
    "np.sum(win_first)/10000 , np.sum(win_second)/10000  # Probability of success"
   ]
  },
  {
   "cell_type": "code",
   "execution_count": 12,
   "metadata": {},
   "outputs": [
    {
     "data": {
      "text/plain": [
       "5.3554"
      ]
     },
     "execution_count": 12,
     "metadata": {},
     "output_type": "execute_result"
    }
   ],
   "source": [
    "(np.sum(count_snakes_first)+np.sum(count_snakes_second))/10000 # number of snakes landed on in each gane between both players"
   ]
  }
 ],
 "metadata": {
  "kernelspec": {
   "display_name": "base",
   "language": "python",
   "name": "python3"
  },
  "language_info": {
   "codemirror_mode": {
    "name": "ipython",
    "version": 3
   },
   "file_extension": ".py",
   "mimetype": "text/x-python",
   "name": "python",
   "nbconvert_exporter": "python",
   "pygments_lexer": "ipython3",
   "version": "3.9.12"
  },
  "orig_nbformat": 4,
  "vscode": {
   "interpreter": {
    "hash": "ad2bdc8ecc057115af97d19610ffacc2b4e99fae6737bb82f5d7fb13d2f2c186"
   }
  }
 },
 "nbformat": 4,
 "nbformat_minor": 2
}
